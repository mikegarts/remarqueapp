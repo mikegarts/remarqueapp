{
 "cells": [
  {
   "cell_type": "code",
   "execution_count": null,
   "id": "108063dc",
   "metadata": {},
   "outputs": [],
   "source": [
    "from fastai.text.all import *\n",
    "from fastai.vision.widgets import *"
   ]
  },
  {
   "cell_type": "code",
   "execution_count": null,
   "id": "4572d793",
   "metadata": {},
   "outputs": [],
   "source": [
    "path = Path()\n",
    "learn = load_learner('remarque.pkl', cpu=True)\n",
    "btn_generate = widgets.Button(description='Generate paragraph')\n",
    "inp_text = widgets.Text(placeholder='I was drinking because')\n",
    "out = widgets.Output()\n",
    "\n",
    "\n",
    "def generate_until(text, min_words=120, stop='.', temperature=0.75):\n",
    "    while True:\n",
    "        res = learn.predict(text, min_words, temperature=temperature)\n",
    "        if res[-1] != '.':\n",
    "            min_words = 1\n",
    "            text=res\n",
    "        else:\n",
    "            res = res.replace('xxunk','')\n",
    "            res = res.replace(' i ',' I ')\n",
    "            res = res.replace(' .','.')\n",
    "            res = res.replace(' ,',',')\n",
    "            return res\n",
    "\n",
    "def on_click_generate(change):\n",
    "    lbl_pred.value = ''\n",
    "    preds = generate_until(inp_text.value)\n",
    "    out.clear_output()\n",
    "    out.append_stdout(preds)\n",
    "\n",
    "btn_generate.on_click(on_click_generate)\n",
    "display(VBox([widgets.Label('Enter a few words to start the paragraph'),inp_text, btn_generate, out]))\n"
   ]
  }
 ],
 "metadata": {
  "kernelspec": {
   "display_name": "Python 3 (ipykernel)",
   "language": "python",
   "name": "python3"
  },
  "language_info": {
   "codemirror_mode": {
    "name": "ipython",
    "version": 3
   },
   "file_extension": ".py",
   "mimetype": "text/x-python",
   "name": "python",
   "nbconvert_exporter": "python",
   "pygments_lexer": "ipython3",
   "version": "3.7.11"
  }
 },
 "nbformat": 4,
 "nbformat_minor": 5
}
