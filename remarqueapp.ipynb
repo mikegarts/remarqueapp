{
 "cells": [
  {
   "cell_type": "code",
   "execution_count": null,
   "id": "108063dc",
   "metadata": {
    "gradient": {
     "editing": false,
     "id": "108063dc",
     "kernelId": "888edbd5-b0ce-4165-9c3c-c6d077792cb4"
    }
   },
   "outputs": [],
   "source": [
    "from fastai.text.all import *\n",
    "from fastai.vision.widgets import *"
   ]
  },
  {
   "cell_type": "code",
   "execution_count": null,
   "id": "d0d46695",
   "metadata": {
    "gradient": {
     "editing": false,
     "id": "d0d46695",
     "kernelId": "888edbd5-b0ce-4165-9c3c-c6d077792cb4"
    }
   },
   "outputs": [],
   "source": [
    "import urllib.request\n",
    "import gc\n",
    "\n",
    "MODEL_URL = \"https://github.com/mikegarts/remarqueapp/raw/master/remarque.pkl\""
   ]
  },
  {
   "cell_type": "markdown",
   "id": "e3291f8a",
   "metadata": {
    "gradient": {
     "editing": false,
     "id": "e3291f8a",
     "kernelId": "888edbd5-b0ce-4165-9c3c-c6d077792cb4"
    }
   },
   "source": [
    "# Remarquefy - What would Remarque say\n",
    "## A neural network trained to complete a few words of an input as a paragraph from a book by Erich Maria Remarque"
   ]
  },
  {
   "cell_type": "code",
   "execution_count": null,
   "id": "4572d793",
   "metadata": {
    "gradient": {
     "editing": false,
     "id": "4572d793",
     "kernelId": "888edbd5-b0ce-4165-9c3c-c6d077792cb4"
    },
    "scrolled": true
   },
   "outputs": [],
   "source": [
    "MIN_WORDS = 60\n",
    "path = Path()\n",
    "btn_generate = widgets.Button(description='Generate paragraph')\n",
    "inp_text = widgets.Text(placeholder='I was drinking because')\n",
    "progress = widgets.IntProgress(\n",
    "    value=0,\n",
    "    min=0,\n",
    "    max=MIN_WORDS * 2,\n",
    "    description='Generating: ',\n",
    "    bar_style='info', # 'success', 'info', 'warning', 'danger' or ''\n",
    "    style={'bar_color': 'maroon'},\n",
    "    orientation='horizontal'\n",
    ")\n",
    "\n",
    "result = widgets.Textarea(rows=16, disabled=True)\n",
    "\n",
    "def get_learn():\n",
    "    #     return load_learner('remarque.pkl', cpu=True)\n",
    "    model_filename = 'dw_' + Path(MODEL_URL).name\n",
    "    if not Path(model_filename).is_file():\n",
    "        result.value = 'Downloading model...'\n",
    "        urllib.request.urlretrieve(MODEL_URL, model_filename)\n",
    "        result.value = 'Loading model...'\n",
    "    \n",
    "    result.value = ''\n",
    "    return load_learner(model_filename)\n",
    "\n",
    "def generate_until(text, min_words=MIN_WORDS, stop='.', temperature=0.75):\n",
    "    learn = get_learn()\n",
    "    \n",
    "    added_words = 0\n",
    "    first_batch = int(min_words / 3)\n",
    "    text = learn.predict(text, first_batch, temperature=temperature)\n",
    "    added_words = first_batch\n",
    "    micro_batch = 3\n",
    "    while True:\n",
    "        text = learn.predict(text, micro_batch, temperature=temperature)    \n",
    "        if (text[-1] != stop or added_words <= min_words) and (added_words < min_words * 2):\n",
    "            added_words += micro_batch\n",
    "            result.value = text\n",
    "            progress.value += micro_batch\n",
    "            continue\n",
    "        else:\n",
    "            break\n",
    "    \n",
    "    if text[-1] != stop:\n",
    "        text += stop\n",
    "\n",
    "    text = text.replace('xxunk','')\n",
    "    text = text.replace('Xxunk','')\n",
    "    text = text.replace(' i ',' I ')\n",
    "    text = text.replace(' .','.')\n",
    "    text = text.replace(' ,',',')\n",
    "    learn = None\n",
    "    gc.collect()\n",
    "    return text\n",
    "\n",
    "def on_click_generate(change):\n",
    "    progress.value = 1\n",
    "    btn_generate.disabled = True\n",
    "    inp_text.disabled = True\n",
    "    result.value = 'Generating ... please wait'\n",
    "    preds = generate_until(inp_text.value)\n",
    "    result.value = preds\n",
    "    btn_generate.disabled = False\n",
    "    inp_text.disabled = False\n",
    "    progress.value = 0\n",
    "    inp_text.value = ''\n",
    "\n",
    "btn_generate.on_click(on_click_generate)\n",
    "display(VBox([widgets.Label('Enter a few words to start the paragraph'),inp_text, btn_generate, progress, result]))\n"
   ]
  },
  {
   "cell_type": "code",
   "execution_count": null,
   "id": "f8da9828",
   "metadata": {
    "gradient": {
     "editing": false,
     "id": "f8da9828",
     "kernelId": "888edbd5-b0ce-4165-9c3c-c6d077792cb4"
    }
   },
   "outputs": [],
   "source": []
  }
 ],
 "metadata": {
  "kernelspec": {
   "display_name": "Python 3 (ipykernel)",
   "language": "python",
   "name": "python3"
  },
  "language_info": {
   "codemirror_mode": {
    "name": "ipython",
    "version": 3
   },
   "file_extension": ".py",
   "mimetype": "text/x-python",
   "name": "python",
   "nbconvert_exporter": "python",
   "pygments_lexer": "ipython3",
   "version": "3.7.11"
  }
 },
 "nbformat": 4,
 "nbformat_minor": 5
}
