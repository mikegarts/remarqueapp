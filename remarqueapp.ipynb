{
 "cells": [
  {
   "cell_type": "code",
   "execution_count": null,
   "id": "108063dc",
   "metadata": {
    "gradient": {
     "editing": false,
     "id": "108063dc",
     "kernelId": "773929ec-6fdb-4746-979f-57b1170b2663"
    }
   },
   "outputs": [],
   "source": [
    "from fastai.text.all import *\n",
    "from fastai.vision.widgets import *"
   ]
  },
  {
   "cell_type": "markdown",
   "id": "e3291f8a",
   "metadata": {
    "gradient": {
     "editing": false,
     "id": "e3291f8a",
     "kernelId": "773929ec-6fdb-4746-979f-57b1170b2663"
    }
   },
   "source": [
    "# Remarquefy - What would Remarque say\n",
    "## A neural network trained to complete a few words of an input as a paragraph from a book by Erich Maria Remarque"
   ]
  },
  {
   "cell_type": "code",
   "execution_count": null,
   "id": "4572d793",
   "metadata": {
    "gradient": {
     "editing": false,
     "id": "4572d793",
     "kernelId": "773929ec-6fdb-4746-979f-57b1170b2663"
    }
   },
   "outputs": [],
   "source": [
    "path = Path()\n",
    "btn_generate = widgets.Button(description='Generate paragraph')\n",
    "inp_text = widgets.Text(placeholder='I was drinking because')\n",
    "progress = widgets.IntProgress(\n",
    "    value=0,\n",
    "    min=0,\n",
    "    max=100,\n",
    "    description='Generating: ',\n",
    "    bar_style='info', # 'success', 'info', 'warning', 'danger' or ''\n",
    "    style={'bar_color': 'maroon'},\n",
    "    orientation='horizontal'\n",
    ")\n",
    "\n",
    "result = widgets.Textarea()\n",
    "\n",
    "def get_learn():\n",
    "    return load_learner('remarque.pkl', cpu=True)\n",
    "\n",
    "learn = get_learn()\n",
    "\n",
    "def generate_until(text, min_words=80, stop='.', temperature=0.75):\n",
    "    while True:\n",
    "        res = learn.predict(text, min_words, temperature=temperature)\n",
    "        if res[-1] != '.':\n",
    "            min_words = 1\n",
    "            text=res\n",
    "            progress.value += 1\n",
    "        else:\n",
    "            res = res.replace('xxunk','')\n",
    "            res = res.replace(' i ',' I ')\n",
    "            res = res.replace(' .','.')\n",
    "            res = res.replace(' ,',',')\n",
    "            return res\n",
    "\n",
    "def on_click_generate(change):\n",
    "    progress.value = 5\n",
    "    btn_generate.disabled = True\n",
    "    result.value = ''\n",
    "    preds = generate_until(inp_text.value)\n",
    "    result.value = preds\n",
    "    btn_generate.disabled = False\n",
    "    progress.value = 0\n",
    "    inp_text.value = ''\n",
    "\n",
    "btn_generate.on_click(on_click_generate)\n",
    "display(VBox([widgets.Label('Enter a few words to start the paragraph'),inp_text, btn_generate, progress, result]))\n"
   ]
  },
  {
   "cell_type": "code",
   "execution_count": null,
   "id": "ee52db76",
   "metadata": {
    "gradient": {
     "editing": false,
     "id": "ee52db76",
     "kernelId": "773929ec-6fdb-4746-979f-57b1170b2663"
    }
   },
   "outputs": [],
   "source": []
  }
 ],
 "metadata": {
  "kernelspec": {
   "display_name": "Python 3 (ipykernel)",
   "language": "python",
   "name": "python3"
  },
  "language_info": {
   "codemirror_mode": {
    "name": "ipython",
    "version": 3
   },
   "file_extension": ".py",
   "mimetype": "text/x-python",
   "name": "python",
   "nbconvert_exporter": "python",
   "pygments_lexer": "ipython3",
   "version": "3.7.11"
  }
 },
 "nbformat": 4,
 "nbformat_minor": 5
}
